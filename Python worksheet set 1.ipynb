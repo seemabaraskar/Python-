{
 "cells": [
  {
   "cell_type": "markdown",
   "id": "f78c89a0",
   "metadata": {},
   "source": [
    "# Answers for python worksheet"
   ]
  },
  {
   "cell_type": "code",
   "execution_count": null,
   "id": "6f26a479",
   "metadata": {},
   "outputs": [],
   "source": [
    "1-   % operators is used to calculate remainder in a division"
   ]
  },
  {
   "cell_type": "code",
   "execution_count": 20,
   "id": "b9a100a4",
   "metadata": {},
   "outputs": [
    {
     "data": {
      "text/plain": [
       "0"
      ]
     },
     "execution_count": 20,
     "metadata": {},
     "output_type": "execute_result"
    }
   ],
   "source": [
    "2//3"
   ]
  },
  {
   "cell_type": "code",
   "execution_count": 15,
   "id": "b822a503",
   "metadata": {},
   "outputs": [
    {
     "data": {
      "text/plain": [
       "24"
      ]
     },
     "execution_count": 15,
     "metadata": {},
     "output_type": "execute_result"
    }
   ],
   "source": [
    "6<<2"
   ]
  },
  {
   "cell_type": "code",
   "execution_count": 16,
   "id": "22c8281a",
   "metadata": {},
   "outputs": [
    {
     "data": {
      "text/plain": [
       "2"
      ]
     },
     "execution_count": 16,
     "metadata": {},
     "output_type": "execute_result"
    }
   ],
   "source": [
    "6&2"
   ]
  },
  {
   "cell_type": "code",
   "execution_count": 17,
   "id": "e825a736",
   "metadata": {},
   "outputs": [
    {
     "data": {
      "text/plain": [
       "2"
      ]
     },
     "execution_count": 17,
     "metadata": {},
     "output_type": "execute_result"
    }
   ],
   "source": [
    "6&2"
   ]
  },
  {
   "cell_type": "code",
   "execution_count": null,
   "id": "8ec6523c",
   "metadata": {},
   "outputs": [],
   "source": [
    "6-  None of the above"
   ]
  },
  {
   "cell_type": "code",
   "execution_count": null,
   "id": "d1bbed74",
   "metadata": {},
   "outputs": [],
   "source": [
    "7- It is used to raise an exception."
   ]
  },
  {
   "cell_type": "code",
   "execution_count": null,
   "id": "460cd22a",
   "metadata": {},
   "outputs": [],
   "source": [
    "8-  in defining a generator"
   ]
  },
  {
   "cell_type": "code",
   "execution_count": null,
   "id": "b8a70789",
   "metadata": {},
   "outputs": [],
   "source": [
    "9- A) _abc   C) abc2"
   ]
  },
  {
   "cell_type": "code",
   "execution_count": null,
   "id": "66f935d8",
   "metadata": {},
   "outputs": [],
   "source": [
    "10- A) yield  B) raise\n"
   ]
  }
 ],
 "metadata": {
  "kernelspec": {
   "display_name": "Python 3",
   "language": "python",
   "name": "python3"
  },
  "language_info": {
   "codemirror_mode": {
    "name": "ipython",
    "version": 3
   },
   "file_extension": ".py",
   "mimetype": "text/x-python",
   "name": "python",
   "nbconvert_exporter": "python",
   "pygments_lexer": "ipython3",
   "version": "3.8.8"
  }
 },
 "nbformat": 4,
 "nbformat_minor": 5
}
